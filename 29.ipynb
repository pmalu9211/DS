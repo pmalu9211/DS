{
  "nbformat": 4,
  "nbformat_minor": 0,
  "metadata": {
    "colab": {
      "provenance": [],
      "authorship_tag": "ABX9TyPQW9MD5d0k2r33rSX/xU4W",
      "include_colab_link": true
    },
    "kernelspec": {
      "name": "python3",
      "display_name": "Python 3"
    },
    "language_info": {
      "name": "python"
    }
  },
  "cells": [
    {
      "cell_type": "markdown",
      "metadata": {
        "id": "view-in-github",
        "colab_type": "text"
      },
      "source": [
        "<a href=\"https://colab.research.google.com/github/pmalu9211/DS/blob/main/29.ipynb\" target=\"_parent\"><img src=\"https://colab.research.google.com/assets/colab-badge.svg\" alt=\"Open In Colab\"/></a>"
      ]
    },
    {
      "cell_type": "code",
      "execution_count": 40,
      "metadata": {
        "colab": {
          "base_uri": "https://localhost:8080/"
        },
        "id": "virHB_dBeazm",
        "outputId": "13b7bd6e-2d4b-44b8-c408-28a100f800e6"
      },
      "outputs": [
        {
          "output_type": "execute_result",
          "data": {
            "text/plain": [
              "<Response [200]>"
            ]
          },
          "metadata": {},
          "execution_count": 40
        }
      ],
      "source": [
        "import requests\n",
        "from bs4 import BeautifulSoup as bs\n",
        "\n",
        "\n",
        "link = 'https://www.amazon.in/Minimalist-Salicylic-Blackheads-Reduces-Exfoliant/dp/B0CW1NV935/?_encoding=UTF8&pd_rd_w=bE8ih&content-id=amzn1.sym.02098b3e-ea89-4029-af57-0dd8e6a0700d%3Aamzn1.symc.0cc9ad80-e1cf-4227-9adf-8a6e88938a11&pf_rd_p=02098b3e-ea89-4029-af57-0dd8e6a0700d&pf_rd_r=7023XFFPRGZ20ACT4GHC&pd_rd_wg=Qtvb4&pd_rd_r=a29ddc8e-fa94-4127-b9f7-53725e336835&ref_=pd_hp_d_atf_ci_mcx_mr_ca_hp_atf_d&th=1'\n",
        "headers = {\n",
        "    'user-agent':'Mozilla/5.0 (Macintosh; Intel Mac OS X 10_15_7) AppleWebKit/537.36 (KHTML, like Gecko) Chrome/135.0.0.0 Safari/537.36'\n",
        "\n",
        "}\n",
        "\n",
        "page = requests.get(link, headers=headers)\n",
        "\n",
        "\n",
        "\n",
        "page\n"
      ]
    },
    {
      "cell_type": "code",
      "source": [
        "soup = bs(page.text)"
      ],
      "metadata": {
        "id": "Frs9T3uxfD1F"
      },
      "execution_count": 41,
      "outputs": []
    },
    {
      "cell_type": "code",
      "source": [
        "names = soup.find_all('span', {'class':'a-profile-name'})"
      ],
      "metadata": {
        "id": "m5_AY_qcfWL6"
      },
      "execution_count": 44,
      "outputs": []
    },
    {
      "cell_type": "code",
      "source": [
        "for name in names:\n",
        "    print(name.get_text())"
      ],
      "metadata": {
        "id": "Lod9YbMRfX9H",
        "outputId": "af1c9171-d316-4061-d97b-f83d80654313",
        "colab": {
          "base_uri": "https://localhost:8080/"
        }
      },
      "execution_count": 45,
      "outputs": [
        {
          "output_type": "stream",
          "name": "stdout",
          "text": [
            "Amazon Customer\n",
            "Amazon Customer\n",
            "Rasha pn\n",
            "Rasha pn\n",
            "Athul c Antony\n",
            "Mr.Ug\n",
            "Manya\n",
            "Manya\n",
            "K.Das\n",
            "Muskan\n",
            "Rojan S.\n",
            "Jignesh Shiyani\n",
            "Saidur Rahman\n",
            "Juee Deshpande\n",
            "Ang\n",
            "OurFamily\n",
            "Tayla\n"
          ]
        }
      ]
    },
    {
      "cell_type": "code",
      "source": [
        "ratting = soup.find('span', {'class' : 'a-size-medium a-color-base'})\n",
        "ratting.get_text()"
      ],
      "metadata": {
        "colab": {
          "base_uri": "https://localhost:8080/",
          "height": 35
        },
        "id": "cWl05z5-jXnA",
        "outputId": "63279463-6e75-463c-d0b0-e1ef52bfe778"
      },
      "execution_count": 35,
      "outputs": [
        {
          "output_type": "execute_result",
          "data": {
            "text/plain": [
              "'4.1 out of 5'"
            ],
            "application/vnd.google.colaboratory.intrinsic+json": {
              "type": "string"
            }
          },
          "metadata": {},
          "execution_count": 35
        }
      ]
    },
    {
      "cell_type": "code",
      "source": [
        "rattings = soup.find_all('span', {'class' : 'a-icon-alt'})\n",
        "for ratting in rattings:\n",
        "  print(ratting.get_text())"
      ],
      "metadata": {
        "colab": {
          "base_uri": "https://localhost:8080/"
        },
        "id": "7hkme8jCkW2y",
        "outputId": "17e518f5-8bbd-4226-ddba-306b69e947d6"
      },
      "execution_count": 39,
      "outputs": [
        {
          "output_type": "stream",
          "name": "stdout",
          "text": [
            "4.1 out of 5 stars\n",
            "Previous page\n",
            "Next page\n",
            "Previous page\n",
            "Next page\n",
            "Previous page\n",
            "Next page\n",
            "Previous page\n",
            "Next page\n",
            "Previous page of related Sponsored Products\n",
            "Next page of related Sponsored Products\n",
            "Previous page\n",
            "Next page\n",
            "Previous page\n",
            "Next page\n",
            "Previous page\n",
            "Next page\n",
            "Previous page\n",
            "Next page\n",
            "4.1 out of 5 stars\n",
            "4.2 out of 5 stars\n",
            "4.2 out of 5 stars\n",
            "4.2 out of 5 stars\n",
            "4.1 out of 5 stars\n",
            "Previous page of related Sponsored Products\n",
            "Next page of related Sponsored Products\n",
            "4.1 out of 5 stars\n",
            "5.0 out of 5 stars\n",
            "Previous page\n",
            "Next page\n",
            "3 out of 5 stars\n",
            "5.0 out of 5 stars\n",
            "5.0 out of 5 stars\n",
            "4.0 out of 5 stars\n",
            "5.0 out of 5 stars\n",
            "3.0 out of 5 stars\n",
            "3.0 out of 5 stars\n",
            "5.0 out of 5 stars\n",
            "5.0 out of 5 stars\n",
            "4.0 out of 5 stars\n",
            "4.0 out of 5 stars\n",
            "5.0 out of 5 stars\n",
            "5.0 out of 5 stars\n",
            "5.0 out of 5 stars\n",
            "5.0 out of 5 stars\n",
            "4.0 out of 5 stars\n"
          ]
        }
      ]
    }
  ]
}